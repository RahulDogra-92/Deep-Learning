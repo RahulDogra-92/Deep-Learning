{
  "nbformat": 4,
  "nbformat_minor": 0,
  "metadata": {
    "colab": {
      "name": "Pytorch.ipynb",
      "provenance": [],
      "authorship_tag": "ABX9TyMkt4Xw8XrNm9IIjhhQ3Cpu",
      "include_colab_link": true
    },
    "kernelspec": {
      "name": "python3",
      "display_name": "Python 3"
    },
    "language_info": {
      "name": "python"
    }
  },
  "cells": [
    {
      "cell_type": "markdown",
      "metadata": {
        "id": "view-in-github",
        "colab_type": "text"
      },
      "source": [
        "<a href=\"https://colab.research.google.com/github/RahulDogra-92/Deep-Learning-using-Pytorch/blob/main/Pytorch.ipynb\" target=\"_parent\"><img src=\"https://colab.research.google.com/assets/colab-badge.svg\" alt=\"Open In Colab\"/></a>"
      ]
    },
    {
      "cell_type": "markdown",
      "metadata": {
        "id": "U9727d2DXlki"
      },
      "source": [
        "Matrix multiplication"
      ]
    },
    {
      "cell_type": "code",
      "metadata": {
        "colab": {
          "base_uri": "https://localhost:8080/"
        },
        "id": "_wlINp3wXq3O",
        "outputId": "d2f26ebd-2b95-4dd4-8dd1-60dfe5d94957"
      },
      "source": [
        "import torch\n",
        "\n",
        "#tensors\n",
        "torch.tensor([[2,3,5],[1,2,9]])"
      ],
      "execution_count": 59,
      "outputs": [
        {
          "output_type": "execute_result",
          "data": {
            "text/plain": [
              "tensor([[2, 3, 5],\n",
              "        [1, 2, 9]])"
            ]
          },
          "metadata": {
            "tags": []
          },
          "execution_count": 59
        }
      ]
    },
    {
      "cell_type": "code",
      "metadata": {
        "colab": {
          "base_uri": "https://localhost:8080/"
        },
        "id": "CMCOqaVTYCPW",
        "outputId": "19afcf51-4b08-4b42-e8d7-40722d406c68"
      },
      "source": [
        "#random values\n",
        "\n",
        "torch.rand(2,2)"
      ],
      "execution_count": 60,
      "outputs": [
        {
          "output_type": "execute_result",
          "data": {
            "text/plain": [
              "tensor([[0.6509, 0.1995],\n",
              "        [0.2453, 0.3228]])"
            ]
          },
          "metadata": {
            "tags": []
          },
          "execution_count": 60
        }
      ]
    },
    {
      "cell_type": "code",
      "metadata": {
        "colab": {
          "base_uri": "https://localhost:8080/"
        },
        "id": "SFOMY2SpYTji",
        "outputId": "a23280ae-f2e2-457c-d20b-d8095667b83c"
      },
      "source": [
        "a = torch.rand((3,5))\n",
        "print(a)\n",
        "print(a.shape)"
      ],
      "execution_count": 61,
      "outputs": [
        {
          "output_type": "stream",
          "text": [
            "tensor([[0.8666, 0.4234, 0.5219, 0.1891, 0.3579],\n",
            "        [0.5378, 0.2212, 0.0665, 0.7024, 0.3661],\n",
            "        [0.3986, 0.7451, 0.0304, 0.3976, 0.5815]])\n",
            "torch.Size([3, 5])\n"
          ],
          "name": "stdout"
        }
      ]
    },
    {
      "cell_type": "code",
      "metadata": {
        "colab": {
          "base_uri": "https://localhost:8080/"
        },
        "id": "ovDqrInOYeVs",
        "outputId": "c723f52c-2986-4913-f622-9080315e1374"
      },
      "source": [
        "a = torch.rand((3,3))\n",
        "b = torch.rand((3,3))\n",
        "\n",
        "print(a,b)\n",
        "# np.dot \n",
        "# torch.matmul\n",
        "\n",
        "torch.matmul(a,b)"
      ],
      "execution_count": 62,
      "outputs": [
        {
          "output_type": "stream",
          "text": [
            "tensor([[0.5842, 0.0228, 0.9085],\n",
            "        [0.1520, 0.4749, 0.7238],\n",
            "        [0.1512, 0.7585, 0.0528]]) tensor([[0.8189, 0.1724, 0.7924],\n",
            "        [0.7229, 0.3202, 0.0621],\n",
            "        [0.1511, 0.7897, 0.9382]])\n"
          ],
          "name": "stdout"
        },
        {
          "output_type": "execute_result",
          "data": {
            "text/plain": [
              "tensor([[0.6321, 0.8255, 1.3167],\n",
              "        [0.5771, 0.7498, 0.8289],\n",
              "        [0.6801, 0.3106, 0.2164]])"
            ]
          },
          "metadata": {
            "tags": []
          },
          "execution_count": 62
        }
      ]
    },
    {
      "cell_type": "code",
      "metadata": {
        "colab": {
          "base_uri": "https://localhost:8080/"
        },
        "id": "LRZt21FwYzI4",
        "outputId": "e57e42fe-b1f6-419b-d87f-cd48b9cdefd3"
      },
      "source": [
        ".85 * .86"
      ],
      "execution_count": 63,
      "outputs": [
        {
          "output_type": "execute_result",
          "data": {
            "text/plain": [
              "0.731"
            ]
          },
          "metadata": {
            "tags": []
          },
          "execution_count": 63
        }
      ]
    },
    {
      "cell_type": "code",
      "metadata": {
        "colab": {
          "base_uri": "https://localhost:8080/"
        },
        "id": "M4nBOoC5ZaQB",
        "outputId": "7dd64566-0f6b-445f-a767-961ef58e5bdb"
      },
      "source": [
        "a * b"
      ],
      "execution_count": 64,
      "outputs": [
        {
          "output_type": "execute_result",
          "data": {
            "text/plain": [
              "tensor([[0.4784, 0.0039, 0.7199],\n",
              "        [0.1098, 0.1521, 0.0449],\n",
              "        [0.0228, 0.5990, 0.0495]])"
            ]
          },
          "metadata": {
            "tags": []
          },
          "execution_count": 64
        }
      ]
    },
    {
      "cell_type": "code",
      "metadata": {
        "colab": {
          "base_uri": "https://localhost:8080/"
        },
        "id": "abtyMOxjZcTG",
        "outputId": "f7f2d8a4-06e1-4f24-e5bb-d9c42ee1414d"
      },
      "source": [
        "torch.zeros(2,2)"
      ],
      "execution_count": 65,
      "outputs": [
        {
          "output_type": "execute_result",
          "data": {
            "text/plain": [
              "tensor([[0., 0.],\n",
              "        [0., 0.]])"
            ]
          },
          "metadata": {
            "tags": []
          },
          "execution_count": 65
        }
      ]
    },
    {
      "cell_type": "code",
      "metadata": {
        "colab": {
          "base_uri": "https://localhost:8080/"
        },
        "id": "_V_oTtmuZoV2",
        "outputId": "7e68163a-18f3-470d-c435-77dbd1f4f973"
      },
      "source": [
        "torch.ones(2,2)"
      ],
      "execution_count": 66,
      "outputs": [
        {
          "output_type": "execute_result",
          "data": {
            "text/plain": [
              "tensor([[1., 1.],\n",
              "        [1., 1.]])"
            ]
          },
          "metadata": {
            "tags": []
          },
          "execution_count": 66
        }
      ]
    },
    {
      "cell_type": "code",
      "metadata": {
        "colab": {
          "base_uri": "https://localhost:8080/"
        },
        "id": "0fFWgOcXacBf",
        "outputId": "fef91af8-462a-4865-a5f8-6de0e9d8ef3d"
      },
      "source": [
        "torch.eye(2)"
      ],
      "execution_count": 67,
      "outputs": [
        {
          "output_type": "execute_result",
          "data": {
            "text/plain": [
              "tensor([[1., 0.],\n",
              "        [0., 1.]])"
            ]
          },
          "metadata": {
            "tags": []
          },
          "execution_count": 67
        }
      ]
    },
    {
      "cell_type": "code",
      "metadata": {
        "colab": {
          "base_uri": "https://localhost:8080/"
        },
        "id": "OvPlRF0eaemq",
        "outputId": "d50e9fb6-f0cd-414d-c370-77f34a433e98"
      },
      "source": [
        "x = torch .rand((3,5))\n",
        "print(x)"
      ],
      "execution_count": 68,
      "outputs": [
        {
          "output_type": "stream",
          "text": [
            "tensor([[0.0473, 0.0988, 0.2322, 0.2192, 0.1276],\n",
            "        [0.7643, 0.5673, 0.3603, 0.9009, 0.8476],\n",
            "        [0.4299, 0.4324, 0.6485, 0.8227, 0.4236]])\n"
          ],
          "name": "stdout"
        }
      ]
    },
    {
      "cell_type": "code",
      "metadata": {
        "colab": {
          "base_uri": "https://localhost:8080/"
        },
        "id": "Fv3dwPS_ajgA",
        "outputId": "7aaf1c86-2050-4fb0-c5b4-693d7c4084bb"
      },
      "source": [
        "torch.from_numpy(x.numpy())"
      ],
      "execution_count": 69,
      "outputs": [
        {
          "output_type": "execute_result",
          "data": {
            "text/plain": [
              "tensor([[0.0473, 0.0988, 0.2322, 0.2192, 0.1276],\n",
              "        [0.7643, 0.5673, 0.3603, 0.9009, 0.8476],\n",
              "        [0.4299, 0.4324, 0.6485, 0.8227, 0.4236]])"
            ]
          },
          "metadata": {
            "tags": []
          },
          "execution_count": 69
        }
      ]
    },
    {
      "cell_type": "code",
      "metadata": {
        "colab": {
          "base_uri": "https://localhost:8080/"
        },
        "id": "t3AMLi4-a6Lx",
        "outputId": "9700b8fd-8ce0-4409-e059-d1d67573676c"
      },
      "source": [
        "l = [1,2,3,4]\n",
        "torch.tensor(l)"
      ],
      "execution_count": 70,
      "outputs": [
        {
          "output_type": "execute_result",
          "data": {
            "text/plain": [
              "tensor([1, 2, 3, 4])"
            ]
          },
          "metadata": {
            "tags": []
          },
          "execution_count": 70
        }
      ]
    },
    {
      "cell_type": "code",
      "metadata": {
        "id": "GQdTGu-PbRl1"
      },
      "source": [
        ""
      ],
      "execution_count": 70,
      "outputs": []
    },
    {
      "cell_type": "markdown",
      "metadata": {
        "id": "b0k_ZVHDbSKh"
      },
      "source": [
        "**Practise**\n",
        "\n",
        "Import PyTorch main library.\n",
        "Create the variable your_first_tensor and set it to a random torch tensor of size 3 by 3.\n",
        "Calculate its shape (dimension sizes) and set it to variable tensor_size.\n",
        "Print the values of your_first_tensor and tensor_size"
      ]
    },
    {
      "cell_type": "code",
      "metadata": {
        "colab": {
          "base_uri": "https://localhost:8080/"
        },
        "id": "rJKycEuQbBgj",
        "outputId": "c0d2bd45-f259-45d9-8754-972a00b78a90"
      },
      "source": [
        "import torch\n",
        "\n",
        "your_first_tensor = torch.tensor((3, 3))\n",
        "\n",
        "tensor_size = your_first_tensor.shape\n",
        "\n",
        "print(your_first_tensor)\n",
        "print(tensor_size)\n"
      ],
      "execution_count": 71,
      "outputs": [
        {
          "output_type": "stream",
          "text": [
            "tensor([3, 3])\n",
            "torch.Size([2])\n"
          ],
          "name": "stdout"
        }
      ]
    },
    {
      "cell_type": "markdown",
      "metadata": {
        "id": "bCJEj8M5e4Xo"
      },
      "source": [
        "Create a matrix of ones with shape 3 by 3, and put it on variable tensor_of_ones.\n",
        "Create an identity matrix with shape 3 by 3, and put it on variable identity_tensor.\n",
        "Do a matrix multiplication of tensor_of_ones with identity_tensor and print its value.\n",
        "Do an element-wise multiplication of tensor_of_ones with identity_tensor and print its value."
      ]
    },
    {
      "cell_type": "code",
      "metadata": {
        "colab": {
          "base_uri": "https://localhost:8080/"
        },
        "id": "JmfqW6nnfAch",
        "outputId": "9dd884f7-58c5-437e-a724-ff61d20b290e"
      },
      "source": [
        "\n",
        "# Create a matrix of ones with shape 3 by 3\n",
        "tensor_of_ones = torch.ones(3, 3)\n",
        "\n",
        "# Create an identity matrix with shape 3 by 3\n",
        "identity_tensor = torch.eye(3)\n",
        "\n",
        "# Do a matrix multiplication of tensor_of_ones with identity_tensor\n",
        "matrices_multiplied = torch.matmul(tensor_of_ones, identity_tensor)\n",
        "print(matrices_multiplied)\n",
        "\n",
        "# Do an element-wise multiplication of tensor_of_ones with identity_tensor\n",
        "element_multiplication = tensor_of_ones * identity_tensor\n",
        "print(element_multiplication)"
      ],
      "execution_count": 72,
      "outputs": [
        {
          "output_type": "stream",
          "text": [
            "tensor([[1., 1., 1.],\n",
            "        [1., 1., 1.],\n",
            "        [1., 1., 1.]])\n",
            "tensor([[1., 0., 0.],\n",
            "        [0., 1., 0.],\n",
            "        [0., 0., 1.]])\n"
          ],
          "name": "stdout"
        }
      ]
    },
    {
      "cell_type": "markdown",
      "metadata": {
        "id": "10Jb4GaWg-bN"
      },
      "source": [
        "Forward Pass"
      ]
    },
    {
      "cell_type": "code",
      "metadata": {
        "colab": {
          "base_uri": "https://localhost:8080/"
        },
        "id": "uJ8h4NR6hD5W",
        "outputId": "b2d996f3-f3ff-44df-ea23-b368b50d0fde"
      },
      "source": [
        "import torch\n",
        "\n",
        "a = torch.tensor([2])\n",
        "b = torch.tensor([-4])\n",
        "c = torch.tensor([-2])\n",
        "d = torch.tensor([2])\n",
        "\n",
        "e = a + b\n",
        "f = c * d\n",
        "\n",
        "g = e * f\n",
        "\n",
        "print(e,f,g)"
      ],
      "execution_count": 73,
      "outputs": [
        {
          "output_type": "stream",
          "text": [
            "tensor([-2]) tensor([-4]) tensor([8])\n"
          ],
          "name": "stdout"
        }
      ]
    },
    {
      "cell_type": "markdown",
      "metadata": {
        "id": "j9vby-tahwSA"
      },
      "source": [
        "Initialize random tensors x, y and z, each having shape (1000, 1000).\n",
        "Multiply x with y, putting the result in tensor q.\n",
        "Do an elementwise multiplication of tensor z with tensor q, putting the results in f"
      ]
    },
    {
      "cell_type": "code",
      "metadata": {
        "colab": {
          "base_uri": "https://localhost:8080/"
        },
        "id": "lDP4_9MXhxNr",
        "outputId": "0809592d-04a4-46b7-b03d-8e57cd2cb21c"
      },
      "source": [
        "# Initialize tensors x, y and z\n",
        "x = torch.rand(1000, 1000)\n",
        "y = torch.rand(1000, 1000)\n",
        "z = torch.rand(1000, 1000)\n",
        "\n",
        "# Multiply x with y\n",
        "q = x * y\n",
        "\n",
        "# Multiply elementwise z with q\n",
        "f = z * q\n",
        "\n",
        "mean_f = torch.mean(f)\n",
        "print(mean_f)"
      ],
      "execution_count": 74,
      "outputs": [
        {
          "output_type": "stream",
          "text": [
            "tensor(0.1250)\n"
          ],
          "name": "stdout"
        }
      ]
    },
    {
      "cell_type": "markdown",
      "metadata": {
        "id": "NkCbkLQfldVV"
      },
      "source": [
        "BackProp by auto diff"
      ]
    },
    {
      "cell_type": "code",
      "metadata": {
        "colab": {
          "base_uri": "https://localhost:8080/"
        },
        "id": "wxdU1yRFlgPq",
        "outputId": "4f555104-c75a-4546-e2d4-2fa1e2fc2f55"
      },
      "source": [
        "import torch\n",
        "\n",
        "x = torch.tensor(-3.,requires_grad=True)\n",
        "y = torch.tensor(-5.,requires_grad=True)\n",
        "z = torch.tensor(2.,requires_grad=True)\n",
        "\n",
        "q = x + y\n",
        "f = q * z\n",
        "\n",
        "f.backward()\n",
        "\n",
        "print(\"gradient of z\", str(z.grad))\n",
        "print(\"gradient of y\", str(y.grad))\n",
        "print(\"gradient of x\", str(x.grad))"
      ],
      "execution_count": 75,
      "outputs": [
        {
          "output_type": "stream",
          "text": [
            "gradient of z tensor(-8.)\n",
            "gradient of y tensor(2.)\n",
            "gradient of x tensor(2.)\n"
          ],
          "name": "stdout"
        }
      ]
    },
    {
      "cell_type": "markdown",
      "metadata": {
        "id": "CPAkaKDNmfm1"
      },
      "source": [
        "Initialize tensors x, y and z to values 4, -3 and 5.\n",
        "Put the sum of tensors x and y in q, put the product of q and z in f.\n",
        "Calculate the derivatives of the computational graph.\n",
        "Print the gradients of the x, y and z tensors."
      ]
    },
    {
      "cell_type": "code",
      "metadata": {
        "colab": {
          "base_uri": "https://localhost:8080/"
        },
        "id": "Bq8xtSvcmgLN",
        "outputId": "e588a8ac-786d-440a-aee0-9da01f49df3e"
      },
      "source": [
        "# Initialize x, y and z to values 4, -3 and 5\n",
        "x = torch.tensor(4., requires_grad=True)\n",
        "y = torch.tensor(-3., requires_grad=True)\n",
        "z = torch.tensor(5., requires_grad=True)\n",
        "\n",
        "# Set q to sum of x and y, set f to product of q with z\n",
        "q = x + y\n",
        "f = q * z\n",
        "\n",
        "# Compute the derivatives\n",
        "f.backward()\n",
        "\n",
        "# Print the gradients\n",
        "print(\"Gradient of x is: \" + str(x.grad))\n",
        "print(\"Gradient of y is: \" + str(y.grad))\n",
        "print(\"Gradient of z is: \" + str(z.grad))"
      ],
      "execution_count": 76,
      "outputs": [
        {
          "output_type": "stream",
          "text": [
            "Gradient of x is: tensor(5.)\n",
            "Gradient of y is: tensor(5.)\n",
            "Gradient of z is: tensor(1.)\n"
          ],
          "name": "stdout"
        }
      ]
    },
    {
      "cell_type": "markdown",
      "metadata": {
        "id": "Jn3BSx3SnIYF"
      },
      "source": [
        "Multiply tensors x and y, put the product in tensor q.\n",
        "Do an elementwise multiplication of tensors z with q.\n",
        "Calculate the gradients."
      ]
    },
    {
      "cell_type": "code",
      "metadata": {
        "id": "0HznvENynJoN"
      },
      "source": [
        "x = torch.randn(1000,1000,requires_grad=True)\n",
        "y = torch.randn(1000,1000,requires_grad=True)\n",
        "z = torch.randn(1000,1000,requires_grad=True)\n",
        "# Multiply tensors x and y\n",
        "q = torch.matmul(x,y)\n",
        "\n",
        "# Elementwise multiply tensors z with q\n",
        "f = z * q\n",
        "\n",
        "mean_f = torch.mean(f)\n",
        "\n",
        "# Calculate the gradients\n",
        "mean_f.backward()"
      ],
      "execution_count": 77,
      "outputs": []
    },
    {
      "cell_type": "markdown",
      "metadata": {
        "id": "hTqzwAsYoWfW"
      },
      "source": [
        "Intro to Neural Networks"
      ]
    },
    {
      "cell_type": "code",
      "metadata": {
        "colab": {
          "base_uri": "https://localhost:8080/"
        },
        "id": "BeHrDYoYoX7o",
        "outputId": "1270fd7b-d2c9-40a7-9212-cd51302d0d79"
      },
      "source": [
        "#Work of Hidden Layers is to get good features\n",
        "\n",
        "import torch\n",
        "\n",
        "input_layer = torch.rand(10)\n",
        "\n",
        "w1 = torch.rand(10,20)\n",
        "w2 = torch.rand(20,20)\n",
        "w3 = torch.rand(20,4)\n",
        "\n",
        "h1 = torch.matmul(input_layer , w1)\n",
        "h2 = torch.matmul(h1,w2)\n",
        "\n",
        "output_layer = torch.matmul(h2, w3)\n",
        "\n",
        "print(output_layer)"
      ],
      "execution_count": 78,
      "outputs": [
        {
          "output_type": "stream",
          "text": [
            "tensor([286.3852, 285.6194, 253.3238, 268.5671])\n"
          ],
          "name": "stdout"
        }
      ]
    },
    {
      "cell_type": "markdown",
      "metadata": {
        "id": "d_USMOWSrdMR"
      },
      "source": [
        "Pytorch way"
      ]
    },
    {
      "cell_type": "code",
      "metadata": {
        "colab": {
          "base_uri": "https://localhost:8080/"
        },
        "id": "nPCTc8phrelm",
        "outputId": "a4a9febe-e37b-494a-9094-0ee768b0f3b4"
      },
      "source": [
        "import torch\n",
        "import torch.nn as nn\n",
        "\n",
        "class Net(nn.Module):\n",
        "  def __init__(self):\n",
        "    super(Net, self).__init__() #calling the super class constructor\n",
        "    self.fc1 = nn.Linear(10,20)\n",
        "    self.fc2 = nn.Linear(20,20)\n",
        "    self.output = nn.Linear(20,4)\n",
        "\n",
        "  def forward(self, X):\n",
        "    x1 = self.fc1(X)\n",
        "    x2 = self.fc2(x1)\n",
        "    x3 = self.output(x2)\n",
        "    return x3\n",
        "\n",
        "input_layer = torch.rand(10)\n",
        "net = Net()\n",
        "result = net(input_layer)\n",
        "\n",
        "print(result)\n"
      ],
      "execution_count": 79,
      "outputs": [
        {
          "output_type": "stream",
          "text": [
            "tensor([-0.1931, -0.5404,  0.1651,  0.0773], grad_fn=<AddBackward0>)\n"
          ],
          "name": "stdout"
        }
      ]
    },
    {
      "cell_type": "markdown",
      "metadata": {
        "id": "i3Rp4pfiuAM1"
      },
      "source": [
        "Your input will be images of size (28, 28), so images containing 784 pixels. Your network will contain an input_layer (provided for you), a hidden layer with 200units, and an output layer with 10 classes. The input layer has already been created for you. You are going to create the weights, and then do matrix multiplications, getting the results from the network.\n",
        "\n",
        "Initialize with random numbers two matrices of weights, called weight_1 and weight_2.\n",
        "Set the result of input_layer times weight_1 to hidden_1. Set the result of hidden_1 times weight_2 to output_layer."
      ]
    },
    {
      "cell_type": "code",
      "metadata": {
        "colab": {
          "base_uri": "https://localhost:8080/"
        },
        "id": "6rmrx8CBuBAO",
        "outputId": "dddcebc6-1c20-4a9a-91d3-52e2ba2d3469"
      },
      "source": [
        "# Initialize the weights of the neural network\n",
        "weight_1 = torch.rand(784, 200)\n",
        "weight_2 = torch.rand(200, 10)\n",
        "\n",
        "input_layer = torch.rand(784)\n",
        "# Multiply input_layer with weight_1\n",
        "hidden_1 = torch.matmul(input_layer, weight_1)\n",
        "\n",
        "# Multiply hidden_1 with weight_2\n",
        "output_layer = torch.matmul(hidden_1, weight_2)\n",
        "print(output_layer)"
      ],
      "execution_count": 80,
      "outputs": [
        {
          "output_type": "stream",
          "text": [
            "tensor([19340.6582, 18789.8867, 19137.4785, 20068.4375, 19785.4258, 19170.7480,\n",
            "        19271.6602, 19477.5059, 19239.8105, 18699.7090])\n"
          ],
          "name": "stdout"
        }
      ]
    },
    {
      "cell_type": "markdown",
      "metadata": {
        "id": "rdq0fQbavYCl"
      },
      "source": [
        "You are going to build the same neural network you built in the previous exercise, but now using the PyTorch way. As a reminder, you have 784 units in the input layer, 200 hidden units and 10 units for the output layer.\n",
        "\n",
        "Instantiate two linear layers calling them self.fc1 and self.fc2. Determine their correct dimensions.\n",
        "Implement the .forward() method, using the two layers you defined and returning x."
      ]
    },
    {
      "cell_type": "code",
      "metadata": {
        "id": "AL_bXI93vYo4"
      },
      "source": [
        "class Net(nn.Module):\n",
        "    def __init__(self):\n",
        "        super(Net, self).__init__()\n",
        "        \n",
        "        # Instantiate all 2 linear layers  \n",
        "        self.fc1 = nn.Linear(784, 200)\n",
        "        self.fc2 = nn.Linear(200, 10)\n",
        "\n",
        "    def forward(self, x):\n",
        "      \n",
        "        # Use the instantiated layers and return x\n",
        "        x = self.fc1(x)\n",
        "        x = self.fc2(x)\n",
        "        return x"
      ],
      "execution_count": 81,
      "outputs": []
    },
    {
      "cell_type": "markdown",
      "metadata": {
        "id": "QxtNvtkH6Ai4"
      },
      "source": [
        "Activation functions"
      ]
    },
    {
      "cell_type": "code",
      "metadata": {
        "colab": {
          "base_uri": "https://localhost:8080/"
        },
        "id": "4_1eYbUC6CZn",
        "outputId": "aad1a836-f491-4343-e545-a6bbf9c439af"
      },
      "source": [
        "import torch\n",
        "\n",
        "input_layer = torch.tensor([2.,1.])\n",
        "weight1 = torch.tensor([[0.45,0.32],[-0.12,0.29]])\n",
        "h1 = torch.matmul(input_layer,weight1)\n",
        "weight2 = torch.tensor([[0.48, -0.12],[0.64, 0.91]])\n",
        "output_layer = torch.matmul(h1, weight2)\n",
        "print(output_layer)"
      ],
      "execution_count": 82,
      "outputs": [
        {
          "output_type": "stream",
          "text": [
            "tensor([0.9696, 0.7527])\n"
          ],
          "name": "stdout"
        }
      ]
    },
    {
      "cell_type": "code",
      "metadata": {
        "colab": {
          "base_uri": "https://localhost:8080/"
        },
        "id": "jB7fOqYC7jDa",
        "outputId": "b6fc160d-837c-4468-898a-7ed52c520a00"
      },
      "source": [
        "weight = torch.matmul(weight1,weight2)\n",
        "output = torch.matmul(input_layer, weight)\n",
        "print(weight)\n",
        "print(output)"
      ],
      "execution_count": 83,
      "outputs": [
        {
          "output_type": "stream",
          "text": [
            "tensor([[0.4208, 0.2372],\n",
            "        [0.1280, 0.2783]])\n",
            "tensor([0.9696, 0.7527])\n"
          ],
          "name": "stdout"
        }
      ]
    },
    {
      "cell_type": "code",
      "metadata": {
        "colab": {
          "base_uri": "https://localhost:8080/"
        },
        "id": "FngyMrxFrEYB",
        "outputId": "54ab4181-b1aa-4210-e87b-b372e119bdf6"
      },
      "source": [
        "import torch.nn as nn\n",
        "\n",
        "relu = nn.ReLU()\n",
        "\n",
        "tensor = torch.tensor([2.,-4])\n",
        "\n",
        "print(relu(tensor))"
      ],
      "execution_count": 84,
      "outputs": [
        {
          "output_type": "stream",
          "text": [
            "tensor([2., 0.])\n"
          ],
          "name": "stdout"
        }
      ]
    },
    {
      "cell_type": "code",
      "metadata": {
        "colab": {
          "base_uri": "https://localhost:8080/"
        },
        "id": "G-xu4EwvsBVO",
        "outputId": "901f67bb-7bd9-49c3-c36d-c39080ea70b6"
      },
      "source": [
        "import torch.nn as nn \n",
        "\n",
        "relu = nn.ReLU()\n",
        "\n",
        "tensor2 = torch.tensor([[2., -4.], [1.2, 0]])\n",
        "\n",
        "print(relu(tensor2))"
      ],
      "execution_count": 85,
      "outputs": [
        {
          "output_type": "stream",
          "text": [
            "tensor([[2.0000, 0.0000],\n",
            "        [1.2000, 0.0000]])\n"
          ],
          "name": "stdout"
        }
      ]
    },
    {
      "cell_type": "markdown",
      "metadata": {
        "id": "sq0k7Ff0wlsy"
      },
      "source": [
        "\n",
        "ReLU activation\n",
        "\n",
        "In this exercise, we have the same settings as the previous exercise. But now we are going to build a neural network which has non-linearity. By doing so, we are going to convince ourselves that networks with multiple layers and non-linearity functions cannot be expressed as a neural network with one layer.\n",
        "\n",
        "Apply the non-linearity to the two hidden layers and print the result.\n",
        "Apply the non-linearity to the product of first two weights.\n",
        "Multiply the result of the previous step with weight_3.\n",
        "Multiply input_layer with weight and print the results"
      ]
    },
    {
      "cell_type": "code",
      "metadata": {
        "colab": {
          "base_uri": "https://localhost:8080/"
        },
        "id": "iW14OEqvwmHO",
        "outputId": "98b27274-5e71-4a98-a07e-2a95eddccd84"
      },
      "source": [
        "input_layer = torch.rand(4)\n",
        "weight_1 = torch.rand(4,4)\n",
        "weight_2 = torch.rand(4,4)\n",
        "weight_3 = torch.rand(4,4)\n",
        "\n",
        "# Instantiate non-linearity\n",
        "relu = nn.ReLU()\n",
        "\n",
        "# Apply non-linearity on the hidden layers\n",
        "hidden_1_activated = relu(torch.matmul(input_layer, weight_1))\n",
        "hidden_2_activated = relu(torch.matmul(hidden_1_activated, weight_2))\n",
        "print(torch.matmul(hidden_2_activated, weight_3))\n",
        "\n",
        "# Apply non-linearity in the product of first two weights. \n",
        "weight_composed_1_activated = relu(torch.matmul(weight_1, weight_2))\n",
        "\n",
        "# Multiply `weight_composed_1_activated` with `weight_3\n",
        "weight = torch.matmul(weight_composed_1_activated, weight_3)\n",
        "\n",
        "# Multiply input_layer with weight\n",
        "print(torch.matmul(input_layer, weight))"
      ],
      "execution_count": 86,
      "outputs": [
        {
          "output_type": "stream",
          "text": [
            "tensor([3.1341, 4.7171, 2.6683, 3.0647])\n",
            "tensor([3.1341, 4.7171, 2.6683, 3.0647])\n"
          ],
          "name": "stdout"
        }
      ]
    },
    {
      "cell_type": "markdown",
      "metadata": {
        "id": "ihUTnc_P1fxG"
      },
      "source": [
        "Loss Functions"
      ]
    },
    {
      "cell_type": "code",
      "metadata": {
        "colab": {
          "base_uri": "https://localhost:8080/"
        },
        "id": "jAejX6k71jZu",
        "outputId": "ca7aec8f-1725-4e1f-d26d-c910164c5a9e"
      },
      "source": [
        "logits = torch.tensor([[3.2,5.1,-1.7]])\n",
        "ground_truth = torch.tensor([0])\n",
        "\n",
        "#loss function \n",
        "criterion = nn.CrossEntropyLoss()\n",
        "\n",
        "loss = criterion(logits, ground_truth)\n",
        "\n",
        "print(loss)"
      ],
      "execution_count": 87,
      "outputs": [
        {
          "output_type": "stream",
          "text": [
            "tensor(2.0404)\n"
          ],
          "name": "stdout"
        }
      ]
    },
    {
      "cell_type": "code",
      "metadata": {
        "colab": {
          "base_uri": "https://localhost:8080/"
        },
        "id": "Aij8IPit1zxu",
        "outputId": "a8895887-f32e-447f-ffc4-9f04d0ceed49"
      },
      "source": [
        "logits = torch.tensor([[10.2, 5.1, -1.7]])\n",
        "\n",
        "loss = criterion(logits, ground_truth)\n",
        "\n",
        "print(loss)\n"
      ],
      "execution_count": 88,
      "outputs": [
        {
          "output_type": "stream",
          "text": [
            "tensor(0.0061)\n"
          ],
          "name": "stdout"
        }
      ]
    },
    {
      "cell_type": "code",
      "metadata": {
        "colab": {
          "base_uri": "https://localhost:8080/"
        },
        "id": "_nXiHfLa2f0a",
        "outputId": "da987f9c-1e03-4885-ff9b-2674acae6dc2"
      },
      "source": [
        "logits = torch.tensor([[-10.2, 5.1, -1.7]])\n",
        "\n",
        "loss = criterion(logits, ground_truth)\n",
        "\n",
        "print(loss)"
      ],
      "execution_count": 89,
      "outputs": [
        {
          "output_type": "stream",
          "text": [
            "tensor(15.3011)\n"
          ],
          "name": "stdout"
        }
      ]
    },
    {
      "cell_type": "markdown",
      "metadata": {
        "id": "04biTWEQ2oCn"
      },
      "source": [
        "Initialize the tensor of scores with numbers [[-1.2, 0.12, 4.8]], and the tensor of ground truth [2].\n",
        "Instantiate the cross-entropy loss and call it criterion.\n",
        "Compute and print the loss."
      ]
    },
    {
      "cell_type": "code",
      "metadata": {
        "colab": {
          "base_uri": "https://localhost:8080/"
        },
        "id": "FhoWWfr02ok5",
        "outputId": "308af454-632b-44b8-aa63-7e311516abf3"
      },
      "source": [
        "# Initialize the scores and ground truth\n",
        "logits = torch.tensor([[-1.2, 0.12, 4.8]])\n",
        "ground_truth = torch.tensor([2])\n",
        "\n",
        "# Instantiate cross entropy loss\n",
        "criterion = nn.CrossEntropyLoss()\n",
        "\n",
        "# Compute and print the loss\n",
        "loss = criterion(logits, ground_truth)\n",
        "print(loss)"
      ],
      "execution_count": 90,
      "outputs": [
        {
          "output_type": "stream",
          "text": [
            "tensor(0.0117)\n"
          ],
          "name": "stdout"
        }
      ]
    },
    {
      "cell_type": "markdown",
      "metadata": {
        "id": "9NvAoZ8L3QFH"
      },
      "source": [
        "Loss function of random scores\n",
        "\n",
        "If the neural network predicts random scores, what would be its loss function? Let's find it out in PyTorch. The neural network is going to have 1000 classes, each having a random score. For ground truth, it will have class 111. Calculate the loss function.\n",
        "\n",
        "Import torch and torch.nn as nn\n",
        "Initialize logits with a random tensor of shape (1, 1000) and ground_truth with a tensor containing the number 111.\n",
        "Instantiate the cross-entropy loss in a variable called criterion.\n",
        "Calculate and print the loss function."
      ]
    },
    {
      "cell_type": "code",
      "metadata": {
        "colab": {
          "base_uri": "https://localhost:8080/"
        },
        "id": "1Jl4Zpx73QpU",
        "outputId": "7cb38730-c466-410a-b4ed-95699dfe3c8d"
      },
      "source": [
        "# Import torch and torch.nn\n",
        "import torch\n",
        "import torch.nn as nn\n",
        "\n",
        "# Initialize logits and ground truth\n",
        "logits = torch.rand(1,1000)\n",
        "ground_truth = torch.tensor([111])\n",
        "\n",
        "# Instantiate cross-entropy loss\n",
        "criterion = nn.CrossEntropyLoss()\n",
        "\n",
        "# Calculate and print the loss\n",
        "loss = criterion(logits, ground_truth)\n",
        "print(loss)"
      ],
      "execution_count": 91,
      "outputs": [
        {
          "output_type": "stream",
          "text": [
            "tensor(7.0851)\n"
          ],
          "name": "stdout"
        }
      ]
    },
    {
      "cell_type": "markdown",
      "metadata": {
        "id": "eiQ3kogh30Om"
      },
      "source": [
        "Data loaders"
      ]
    },
    {
      "cell_type": "code",
      "metadata": {
        "colab": {
          "base_uri": "https://localhost:8080/"
        },
        "id": "RK4Uxx0l31hG",
        "outputId": "5a780781-1cec-4271-f60c-8237ce1c62df"
      },
      "source": [
        "import torch \n",
        "import torchvision\n",
        "import torch.utils.data \n",
        "import torchvision.transforms as transforms\n",
        "\n",
        "transform = transforms.Compose(\n",
        "    [transforms.ToTensor(),\n",
        "     transforms.Normalize((0.4914, 0.48216, 0.44543),\n",
        "                          (0.24703, 0.24349, 0.26519))])\n",
        "\n",
        "\n",
        "\n",
        "trainset = torchvision.datasets.CIFAR10(root=\"./data\", train = True, download = True, transform = transform)\n",
        "testset = torchvision.datasets.CIFAR10(root=\"./data\", train = False, download = True, transform = transform)\n",
        "\n",
        "\n",
        "trainloader = torch.utils.data.DataLoader(trainset, batch_size=32, shuffle = True, num_workers = 4)\n",
        "testloader = torch.utils.data.DataLoader(testset, batch_size=32, shuffle = False, num_workers = 4)"
      ],
      "execution_count": 92,
      "outputs": [
        {
          "output_type": "stream",
          "text": [
            "Files already downloaded and verified\n",
            "Files already downloaded and verified\n"
          ],
          "name": "stdout"
        },
        {
          "output_type": "stream",
          "text": [
            "/usr/local/lib/python3.7/dist-packages/torch/utils/data/dataloader.py:477: UserWarning: This DataLoader will create 4 worker processes in total. Our suggested max number of worker in current system is 2, which is smaller than what this DataLoader is going to create. Please be aware that excessive worker creation might get DataLoader running slow or even freeze, lower the worker number to avoid potential slowness/freeze if necessary.\n",
            "  cpuset_checked))\n"
          ],
          "name": "stderr"
        }
      ]
    },
    {
      "cell_type": "code",
      "metadata": {
        "colab": {
          "base_uri": "https://localhost:8080/"
        },
        "id": "q4KRgvky_-TZ",
        "outputId": "258d0324-447e-49c9-830e-1b3a3ba87f92"
      },
      "source": [
        "#dataloader\n",
        "\n",
        "print(testloader.dataset.data.shape)\n",
        "print(trainloader.dataset.data.shape)"
      ],
      "execution_count": 93,
      "outputs": [
        {
          "output_type": "stream",
          "text": [
            "(10000, 32, 32, 3)\n",
            "(50000, 32, 32, 3)\n"
          ],
          "name": "stdout"
        }
      ]
    },
    {
      "cell_type": "markdown",
      "metadata": {
        "id": "iL5ghc6uAfMb"
      },
      "source": [
        "Preparing MNIST dataset\n",
        "\n",
        "You are going to prepare dataloaders for MNIST training and testing set. As we explained in the lecture, MNIST has some differences to CIFAR-10, with the main difference being that MNIST images are grayscale (1 channel based) instead of RGB (3 channels).\n",
        "\n",
        "Transform the data to torch tensors and normalize it to have mean is 0.1307 and std is 0.3081.\n",
        "Prepare the trainset and the testset.\n",
        "Prepare the dataloaders for training and testing so that only 32 pictures are processed at a time and the training data is shuffled each time."
      ]
    },
    {
      "cell_type": "code",
      "metadata": {
        "id": "vDeSkHjzAfph"
      },
      "source": [
        "# Transform the data to torch tensors and normalize it \n",
        "transform = transforms.Compose([transforms.ToTensor(),\n",
        "\t\t\t\t\t\t\t\ttransforms.Normalize((0.1307), ((0.3081)))])\n",
        "\n",
        "# Prepare training set and testing set\n",
        "trainset = torchvision.datasets.MNIST('mnist', train=True, \n",
        "\t\t\t\t\t\t\t\t\t  download=True, transform=transform)\n",
        "testset = torchvision.datasets.MNIST('mnist', train=False, \n",
        "\t\t\t\t\t\t\t\t\t  download=True, transform=transform)\n",
        "\n",
        "# Prepare training loader and testing loader\n",
        "trainloader = torch.utils.data.DataLoader(trainset, batch_size=32,\n",
        "\t\t\t\t\t\t\t\t\t\t  shuffle=True, num_workers=0)\n",
        "testloader = torch.utils.data.DataLoader(testset, batch_size=32,\n",
        "\t\t\t\t\t\t\t\t\t\t shuffle=False, num_workers=0)       "
      ],
      "execution_count": 94,
      "outputs": []
    },
    {
      "cell_type": "markdown",
      "metadata": {
        "id": "KRNVLZ67BhGZ"
      },
      "source": [
        "Inspecting the dataloaders\n",
        "\n",
        "Now you are going to explore a bit the dataloaders you created in the previous exercise. In particular, you will compute the shape of the dataset in addition to the minibatch size.\n",
        "\n",
        "Find the shapes of the trainset and testset.\n",
        "Print the computed values.\n",
        "Find the size of the minibatch for both trainset and testset.\n",
        "Print the minibatch size."
      ]
    },
    {
      "cell_type": "code",
      "metadata": {
        "colab": {
          "base_uri": "https://localhost:8080/"
        },
        "id": "Jw0uqq56Bs3Z",
        "outputId": "d6fa4ee6-7e1d-45d7-d648-b8b0c988b8b6"
      },
      "source": [
        "# Compute the shape of the training set and testing set\n",
        "trainset_shape = trainloader.dataset.data.shape\n",
        "testset_shape = testloader.dataset.data.shape\n",
        "\n",
        "# Print the computed shapes\n",
        "print(trainset_shape, testset_shape)\n",
        "\n",
        "# Compute the size of the minibatch for training set and testing set\n",
        "trainset_batchsize = trainloader.batch_size\n",
        "testset_batchsize = testloader.batch_size\n",
        "\n",
        "# Print sizes of the minibatch\n",
        "print(trainset_batchsize, testset_batchsize)"
      ],
      "execution_count": 95,
      "outputs": [
        {
          "output_type": "stream",
          "text": [
            "torch.Size([60000, 28, 28]) torch.Size([10000, 28, 28])\n",
            "32 32\n"
          ],
          "name": "stdout"
        }
      ]
    },
    {
      "cell_type": "markdown",
      "metadata": {
        "id": "18VZV0bzCqIF"
      },
      "source": [
        "Training a neural network\n",
        "\n",
        "1.Data -> Dataloaders\n",
        "\n",
        "2.Neural Network\n",
        "\n",
        "  forward pass \n",
        "  loss calculation \n",
        "  gradients calculation\n",
        "  update the weights"
      ]
    },
    {
      "cell_type": "code",
      "metadata": {
        "id": "Zb1zCeK-Cx_3",
        "colab": {
          "base_uri": "https://localhost:8080/"
        },
        "outputId": "2ff1f1fd-c8bf-40e8-8188-4aa459b3dd54"
      },
      "source": [
        "import torch\n",
        "import torchvision\n",
        "import torch.utils.data\n",
        "import torchvision.transforms as transforms\n",
        "\n",
        "transform = transforms.Compose(\n",
        "    [transforms.ToTensor(),\n",
        "     transforms.Normalize((0.4914, 0.48216, 0.44543),\n",
        "                          (0.24703, 0.24349, 0.26519))])\n",
        "\n",
        "trainset = torchvision.datasets.CIFAR10(root=\"./data\", train = True, download = True, transform = transform)\n",
        "testset = torchvision.datasets.CIFAR10(root=\"./data\", train = False, download = True, transform = transform)\n",
        "\n",
        "\n",
        "trainloader = torch.utils.data.DataLoader(trainset, batch_size=32, shuffle = True, num_workers = 4)\n",
        "testloader = torch.utils.data.DataLoader(testset, batch_size=32, shuffle = False, num_workers = 4)"
      ],
      "execution_count": 96,
      "outputs": [
        {
          "output_type": "stream",
          "text": [
            "Files already downloaded and verified\n",
            "Files already downloaded and verified\n"
          ],
          "name": "stdout"
        },
        {
          "output_type": "stream",
          "text": [
            "/usr/local/lib/python3.7/dist-packages/torch/utils/data/dataloader.py:477: UserWarning: This DataLoader will create 4 worker processes in total. Our suggested max number of worker in current system is 2, which is smaller than what this DataLoader is going to create. Please be aware that excessive worker creation might get DataLoader running slow or even freeze, lower the worker number to avoid potential slowness/freeze if necessary.\n",
            "  cpuset_checked))\n"
          ],
          "name": "stderr"
        }
      ]
    },
    {
      "cell_type": "code",
      "metadata": {
        "id": "TZtYBhBo_IjD"
      },
      "source": [
        "import torch.nn.functional as F\n",
        "import torch.nn as nn\n",
        "import torch.optim as optim\n",
        "\n",
        "class Net(nn.Module):\n",
        "  def __init__(self):\n",
        "    super(Net, self).__init__()\n",
        "    self.fc1 = nn.Linear(32 * 32 * 3, 500)\n",
        "    self.fc2 = nn.Linear(500,10)\n",
        "\n",
        "  def forward(self, x):\n",
        "    x = F.relu(self.fc1(x))\n",
        "    return self.fc2(x)"
      ],
      "execution_count": 97,
      "outputs": []
    },
    {
      "cell_type": "code",
      "metadata": {
        "id": "WLN_NV1iATNx",
        "outputId": "c87a26ad-2ac9-41a9-99e1-459475b5d7da",
        "colab": {
          "base_uri": "https://localhost:8080/"
        }
      },
      "source": [
        "net = Net()\n",
        "\n",
        "# loss function \n",
        "criterion = nn.CrossEntropyLoss()\n",
        "\n",
        "# optimizer \n",
        "optimizer = optim.Adam(net.parameters(), lr = 1e-4)\n",
        "\n",
        "\n",
        "for epoch in range(1):\n",
        "\n",
        "  for i, data in enumerate(trainloader):\n",
        "      inputs, labels = data \n",
        "\n",
        "      # total number of features = 32x32x3\n",
        "      inputs = inputs.view(-1, 32*32*3)\n",
        "      \n",
        "      # zero the parameter gradients \n",
        "      optimizer.zero_grad()\n",
        "\n",
        "      # forward + backward + optimization \n",
        "\n",
        "      outputs = net(inputs)\n",
        "      loss = criterion(outputs, labels)\n",
        "      loss.backward()\n",
        "\n",
        "      # update the weights \n",
        "      optimizer.step()"
      ],
      "execution_count": 98,
      "outputs": [
        {
          "output_type": "stream",
          "text": [
            "/usr/local/lib/python3.7/dist-packages/torch/utils/data/dataloader.py:477: UserWarning: This DataLoader will create 4 worker processes in total. Our suggested max number of worker in current system is 2, which is smaller than what this DataLoader is going to create. Please be aware that excessive worker creation might get DataLoader running slow or even freeze, lower the worker number to avoid potential slowness/freeze if necessary.\n",
            "  cpuset_checked))\n"
          ],
          "name": "stderr"
        }
      ]
    },
    {
      "cell_type": "code",
      "metadata": {
        "id": "l2KcqqI_Zr_u",
        "outputId": "ad0ef5df-ba53-4bda-a96c-8fcc5091602f",
        "colab": {
          "base_uri": "https://localhost:8080/"
        }
      },
      "source": [
        "predictions = []\n",
        "correct = 0\n",
        "total = 0 \n",
        "\n",
        "# we tell that we are going to evaluate now \n",
        "net.eval()\n",
        "\n",
        "for i, data in enumerate(testloader):\n",
        "  inputs, labels = data \n",
        "  inputs = inputs.view(-1, 32*32*3)\n",
        "\n",
        "  outputs = net(inputs)\n",
        "\n",
        "  _, predicted = torch.max(outputs, 1)\n",
        "  predictions.append(outputs)\n",
        "\n",
        "  # probs = torch.nn.functional.softmax(outputs)\n",
        "\n",
        "  # print(probs)\n",
        "\n",
        "  # sum value \n",
        "\n",
        "  # total = torch.sum(probs, 1)\n",
        "  # print(total)\n",
        "  total += labels.size(0) # give me the first value of the shape -> 32x1 \n",
        "  correct += (predicted == labels).sum().item()\n",
        "  \n",
        "\n",
        "print(\"The testing accuracy si %d %%\" % (100 * correct / total))"
      ],
      "execution_count": 99,
      "outputs": [
        {
          "output_type": "stream",
          "text": [
            "/usr/local/lib/python3.7/dist-packages/torch/utils/data/dataloader.py:477: UserWarning: This DataLoader will create 4 worker processes in total. Our suggested max number of worker in current system is 2, which is smaller than what this DataLoader is going to create. Please be aware that excessive worker creation might get DataLoader running slow or even freeze, lower the worker number to avoid potential slowness/freeze if necessary.\n",
            "  cpuset_checked))\n"
          ],
          "name": "stderr"
        },
        {
          "output_type": "stream",
          "text": [
            "The testing accuracy si 46 %\n"
          ],
          "name": "stdout"
        }
      ]
    },
    {
      "cell_type": "markdown",
      "metadata": {
        "id": "4rGLdskDa126"
      },
      "source": [
        "\n",
        "=======================================\n",
        "Build a class for a neural network which will be used to train on the MNIST dataset. The dataset contains images of shape (28, 28, 1), so you should deduct the size of the input layer. For hidden layer use 200 units, while for output layer use 10 units (1 for each class). For activation function, use relu in a functional way (nn.Functional is already imported as F).\n",
        "\n",
        "For context, the same net will be trained and used to make predictions in the next two exercises.\n",
        "\n",
        "Define the class called Net which inherits from nn.Module.\n",
        "In the __init__() method, define the parameters for the two fully connected layers.\n",
        "In the .forward() method, do the forward step."
      ]
    },
    {
      "cell_type": "code",
      "metadata": {
        "id": "-UmLqhDqa2V7"
      },
      "source": [
        "# Define the class Net\n",
        "class Net(nn.Module):\n",
        "    def __init__(self):    \n",
        "    \t# Define all the parameters of the net\n",
        "        super(Net, self).__init__()\n",
        "        self.fc1 = nn.Linear(28 * 28 * 1, 200)\n",
        "        self.fc2 = nn.Linear(200, 10)\n",
        "\n",
        "    def forward(self, x):    \n",
        "    \t# Do the forward pass\n",
        "        x = F.relu(self.fc1(x))\n",
        "        x = self.fc2(x)\n",
        "        return x"
      ],
      "execution_count": 100,
      "outputs": []
    },
    {
      "cell_type": "markdown",
      "metadata": {
        "id": "gmKsDlfkeg6-"
      },
      "source": [
        "\n",
        "Given the fully connected neural network (called model) which you built in the previous exercise and a train loader called train_loader containing the MNIST dataset (which we created for you), you're to train the net in order to predict the classes of digits. You will use the Adam optimizer to optimize the network, and considering that this is a classification problem you are going to use cross entropy as loss function.\n",
        "\n",
        "Instantiate the Adam optimizer with learning rate 3e-4 and instantiate Cross-Entropy as loss function.\n",
        "Complete a forward pass on the neural network using the input data.\n",
        "Using backpropagation, compute the gradients of the weights, and then change the weights using the Adam optimizer."
      ]
    },
    {
      "cell_type": "code",
      "metadata": {
        "id": "l17filfGehV5"
      },
      "source": [
        "#do not change code\n",
        "# Transform the data to torch tensors and normalize it \n",
        "transform = transforms.Compose([transforms.ToTensor(),\n",
        "\t\t\t\t\t\t\t\ttransforms.Normalize((0.1307), ((0.3081)))])\n",
        "\n",
        "# Prepare training set and testing set\n",
        "trainset = torchvision.datasets.MNIST('mnist', train=True, \n",
        "\t\t\t\t\t\t\t\t\t  download=True, transform=transform)\n",
        "testset = torchvision.datasets.MNIST('mnist', train=False, \n",
        "\t\t\t\t\t\t\t\t\t  download=True, transform=transform)\n",
        "\n",
        "# Prepare training loader and testing loader\n",
        "train_loader = torch.utils.data.DataLoader(trainset, batch_size=32,\n",
        "\t\t\t\t\t\t\t\t\t\t  shuffle=True, num_workers=0)\n",
        "test_loader = torch.utils.data.DataLoader(testset, batch_size=32,\n",
        "\t\t\t\t\t\t\t\t\t\t shuffle=False, num_workers=0)  "
      ],
      "execution_count": 101,
      "outputs": []
    },
    {
      "cell_type": "code",
      "metadata": {
        "id": "GzFdNhlxeoaQ"
      },
      "source": [
        "# Instantiate the network, the Adam optimizer and Cross-Entropy loss function\n",
        "model = Net()   \n",
        "optimizer = optim.Adam(model.parameters(), lr=3e-4)\n",
        "criterion = nn.CrossEntropyLoss()\n",
        "\n",
        "for batch_idx, data_target in enumerate(train_loader):\n",
        "    data = data_target[0]\n",
        "    target = data_target[1]\n",
        "    data = data.view(-1, 28 * 28)\n",
        "    optimizer.zero_grad()\n",
        "\n",
        "    # Complete a forward pass\n",
        "    output = model(data)\n",
        "\n",
        "    # Compute the loss, gradients and change the weights\n",
        "    loss = criterion(output, target)\n",
        "    loss.backward()\n",
        "    optimizer.step()"
      ],
      "execution_count": 102,
      "outputs": []
    },
    {
      "cell_type": "markdown",
      "metadata": {
        "id": "6dPh2fhagIsw"
      },
      "source": [
        "Using the network to make predictions\n",
        "\n",
        "Now that you have trained the network, use it to make predictions for the data in the testing set. The network is called model (same as in the previous exercise), and the loader is called test_loader. We have already initialized variables total and correct to 0.\n",
        "\n",
        "Set the network in testing (eval) mode.\n",
        "Put each image into a vector using inputs.view(-1, number_of_features) where the number of features should be deducted by multiplying spatial dimensions (shape) of the image.\n",
        "Do the forward pass and put the predictions in output variable."
      ]
    },
    {
      "cell_type": "code",
      "metadata": {
        "id": "akMd_VJkgJJ8",
        "outputId": "e1eb7351-e15e-41ce-b52a-3b73c7675f8f",
        "colab": {
          "base_uri": "https://localhost:8080/"
        }
      },
      "source": [
        "# Set the model in eval mode\n",
        "model.eval()\n",
        "\n",
        "for i, data in enumerate(test_loader, 0):\n",
        "    inputs, labels = data\n",
        "    \n",
        "    # Put each image into a vector\n",
        "    inputs = inputs.view(-1, 28 * 28)\n",
        "    \n",
        "    # Do the forward pass and get the predictions\n",
        "    outputs = model(inputs)\n",
        "    _, outputs = torch.max(outputs.data, 1)\n",
        "    total += labels.size(0)\n",
        "    correct += (outputs == labels).sum().item()\n",
        "print('The testing set accuracy of the network is: %d %%' % (100 * correct / total))"
      ],
      "execution_count": 103,
      "outputs": [
        {
          "output_type": "stream",
          "text": [
            "The testing set accuracy of the network is: 71 %\n"
          ],
          "name": "stdout"
        }
      ]
    },
    {
      "cell_type": "code",
      "metadata": {
        "id": "3gMmEUrqgSAi"
      },
      "source": [
        ""
      ],
      "execution_count": 103,
      "outputs": []
    }
  ]
}