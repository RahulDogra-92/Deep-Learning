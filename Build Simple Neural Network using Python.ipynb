{
 "cells": [
  {
   "cell_type": "markdown",
   "metadata": {},
   "source": [
    "### Creation of Feed Forward Neural Networks using Python only !\n",
    "No any other libaries are used here.You gonna see here is -:\n",
    "\n",
    "1.Creation of a basic neuron with 3 and different inputs \n",
    "\n",
    "2.Creation of a simple layer of neurons, with 4 inputs\n",
    "\n",
    "3.Doing dot product with a layer of neurons and multiple input\n",
    "\n",
    "4.How to use Activation Function\n",
    "\n",
    "5.The what and why of the Softmax Activation function with deep learning.\n",
    "\n",
    "6.To have some measure of how wrong the model is we will use\n",
    "a loss function. In our case, with a softmax classifier, so I used  categorical cross-entropy.\n"
   ]
  },
  {
   "cell_type": "markdown",
   "metadata": {},
   "source": [
    "### Let's design a code of single neuron with 3 inputs example"
   ]
  },
  {
   "cell_type": "code",
   "execution_count": 1,
   "metadata": {},
   "outputs": [
    {
     "name": "stdout",
     "output_type": "stream",
     "text": [
      "2.3\n"
     ]
    }
   ],
   "source": [
    "inputs = [1,2,3]\n",
    "weights = [0.2, 0.8, -0.5]\n",
    "bias = 2\n",
    "\n",
    "output = ( inputs[0]*weights[0]+\n",
    "         inputs[1]*weights[1]+\n",
    "         inputs[2]*weights[2] + bias )\n",
    "print(output)"
   ]
  },
  {
   "cell_type": "markdown",
   "metadata": {},
   "source": [
    "What if we have 4 inputs?"
   ]
  },
  {
   "cell_type": "code",
   "execution_count": 2,
   "metadata": {},
   "outputs": [
    {
     "name": "stdout",
     "output_type": "stream",
     "text": [
      "4.8\n"
     ]
    }
   ],
   "source": [
    "inputs = [1,2,3,2.5]\n",
    "weights = [0.2, 0.8, -0.5,1.0]\n",
    "bias = 2\n",
    "\n",
    "output = ( inputs[0]*weights[0]+\n",
    "         inputs[1]*weights[1]+\n",
    "         inputs[2]*weights[2]+\n",
    "         inputs[3]*weights[3]+ bias )\n",
    "print(output)"
   ]
  },
  {
   "cell_type": "markdown",
   "metadata": {},
   "source": [
    "### 3 neuron layer with 4 inputs"
   ]
  },
  {
   "cell_type": "code",
   "execution_count": 3,
   "metadata": {},
   "outputs": [
    {
     "name": "stdout",
     "output_type": "stream",
     "text": [
      "(4.8, 0.8000000000000003, 4.6)\n"
     ]
    }
   ],
   "source": [
    "inputs = [1,2,3,2.5]\n",
    "weights0 = [0.2, 0.8, -0.5,1.0]\n",
    "weights1 = [0.3, 0.4, -0.6,1.0]\n",
    "weights2 = [0.4, 0.1, -0.5,1.0]\n",
    "\n",
    "bias0 = 2\n",
    "bias1 = -1.0\n",
    "bias2 = 3\n",
    "\n",
    "output = (inputs[0]*weights0[0]+inputs[1]*weights0[1]+inputs[2]*weights0[2]+inputs[3]*weights0[3]+ bias0,\n",
    "          inputs[0]*weights1[0]+inputs[1]*weights1[1]+inputs[2]*weights1[2]+inputs[3]*weights1[3]+ bias1,\n",
    "          inputs[0]*weights2[0]+inputs[1]*weights2[1]+inputs[2]*weights2[2]+inputs[3]*weights2[3]+ bias2\n",
    "         )\n",
    "print(output)"
   ]
  },
  {
   "cell_type": "code",
   "execution_count": 4,
   "metadata": {},
   "outputs": [
    {
     "name": "stdout",
     "output_type": "stream",
     "text": [
      "[4.8, 0.8000000000000003, 4.6]\n"
     ]
    }
   ],
   "source": [
    "inputs = [1,2,3,2.5]\n",
    "weights = [[0.2, 0.8, -0.5,1.0],\n",
    "           [0.3, 0.4, -0.6,1.0],\n",
    "           [0.4, 0.1, -0.5,1.0]]\n",
    "biases = [2,-1,3]\n",
    "\n",
    "layer_outputs = []\n",
    "\n",
    "for neuron_weights,bias in zip(weights,biases):\n",
    "    output = 0\n",
    "    \n",
    "    for input,weight in zip(inputs,neuron_weights):\n",
    "        output+= input*weight\n",
    "    \n",
    "    #add bias\n",
    "    output+= bias\n",
    "    \n",
    "    #add to final\n",
    "    layer_outputs.append(output)\n",
    "\n",
    "\n",
    "print(layer_outputs)"
   ]
  },
  {
   "cell_type": "markdown",
   "metadata": {},
   "source": [
    "### Using the dot product for a neuron's calculation"
   ]
  },
  {
   "cell_type": "code",
   "execution_count": 5,
   "metadata": {},
   "outputs": [
    {
     "name": "stdout",
     "output_type": "stream",
     "text": [
      "2.3\n"
     ]
    }
   ],
   "source": [
    "import numpy as np\n",
    "\n",
    "inputs = [1,2,3]\n",
    "weights = [0.2, 0.8, -0.5]\n",
    "bias = 2\n",
    "\n",
    "output = np.dot(inputs,weights) + bias\n",
    "print(output)"
   ]
  },
  {
   "cell_type": "markdown",
   "metadata": {},
   "source": [
    "### Using the dot product with a layer of neurons"
   ]
  },
  {
   "cell_type": "code",
   "execution_count": 6,
   "metadata": {},
   "outputs": [
    {
     "name": "stdout",
     "output_type": "stream",
     "text": [
      "[4.8 3.8 3.6]\n"
     ]
    }
   ],
   "source": [
    "inputs = [1,2,3,2.5]\n",
    "weights = [[0.2, 0.8, -0.5,1.0],\n",
    "           [0.3, 0.4, -0.6,1.0],\n",
    "           [0.4, 0.1, -0.5,1.0]]\n",
    "biases = [2,-1,3]\n",
    "\n",
    "layer_outputs = np.dot(weights,inputs) + bias\n",
    "print(layer_outputs)"
   ]
  },
  {
   "cell_type": "markdown",
   "metadata": {},
   "source": [
    "### This error is just to show why shapes are important.You can execute the below cells now"
   ]
  },
  {
   "cell_type": "code",
   "execution_count": 7,
   "metadata": {},
   "outputs": [
    {
     "ename": "ValueError",
     "evalue": "shapes (4,) and (3,4) not aligned: 4 (dim 0) != 3 (dim 0)",
     "output_type": "error",
     "traceback": [
      "\u001b[1;31m---------------------------------------------------------------------------\u001b[0m",
      "\u001b[1;31mValueError\u001b[0m                                Traceback (most recent call last)",
      "\u001b[1;32m<ipython-input-7-b1a7c22bf7b8>\u001b[0m in \u001b[0;36m<module>\u001b[1;34m\u001b[0m\n\u001b[0;32m      5\u001b[0m \u001b[0mbiases\u001b[0m \u001b[1;33m=\u001b[0m \u001b[1;33m[\u001b[0m\u001b[1;36m2\u001b[0m\u001b[1;33m,\u001b[0m\u001b[1;33m-\u001b[0m\u001b[1;36m1\u001b[0m\u001b[1;33m,\u001b[0m\u001b[1;36m3\u001b[0m\u001b[1;33m]\u001b[0m\u001b[1;33m\u001b[0m\u001b[1;33m\u001b[0m\u001b[0m\n\u001b[0;32m      6\u001b[0m \u001b[1;33m\u001b[0m\u001b[0m\n\u001b[1;32m----> 7\u001b[1;33m \u001b[0mlayer_outputs\u001b[0m \u001b[1;33m=\u001b[0m \u001b[0mnp\u001b[0m\u001b[1;33m.\u001b[0m\u001b[0mdot\u001b[0m\u001b[1;33m(\u001b[0m\u001b[0minputs\u001b[0m\u001b[1;33m,\u001b[0m\u001b[0mweights\u001b[0m\u001b[1;33m)\u001b[0m \u001b[1;33m+\u001b[0m \u001b[0mbias\u001b[0m\u001b[1;33m\u001b[0m\u001b[1;33m\u001b[0m\u001b[0m\n\u001b[0m\u001b[0;32m      8\u001b[0m \u001b[0mprint\u001b[0m\u001b[1;33m(\u001b[0m\u001b[0mlayer_outputs\u001b[0m\u001b[1;33m)\u001b[0m\u001b[1;33m\u001b[0m\u001b[1;33m\u001b[0m\u001b[0m\n",
      "\u001b[1;32m<__array_function__ internals>\u001b[0m in \u001b[0;36mdot\u001b[1;34m(*args, **kwargs)\u001b[0m\n",
      "\u001b[1;31mValueError\u001b[0m: shapes (4,) and (3,4) not aligned: 4 (dim 0) != 3 (dim 0)"
     ]
    }
   ],
   "source": [
    "inputs = [1,2,3,2.5]\n",
    "weights = [[0.2, 0.8, -0.5,1.0],\n",
    "           [0.3, 0.4, -0.6,1.0],\n",
    "           [0.4, 0.1, -0.5,1.0]]\n",
    "biases = [2,-1,3]\n",
    "\n",
    "layer_outputs = np.dot(inputs,weights) + bias\n",
    "print(layer_outputs)\n",
    "\n"
   ]
  },
  {
   "cell_type": "code",
   "execution_count": 8,
   "metadata": {},
   "outputs": [
    {
     "name": "stdout",
     "output_type": "stream",
     "text": [
      "[ 4.   3.9 -1.2]\n"
     ]
    }
   ],
   "source": [
    "inputs = [1,2,3]\n",
    "weights = [[0.2, 0.8, -0.5],\n",
    "           [0.3, 0.4, -0.6],\n",
    "           [0.4, 0.1, -0.5]]\n",
    "biases = [2,-1,3]\n",
    "\n",
    "layer_outputs = np.dot(inputs,weights) + bias\n",
    "print(layer_outputs)"
   ]
  },
  {
   "cell_type": "markdown",
   "metadata": {},
   "source": [
    "### Data  often comes in input batch. \n",
    "\n",
    "What is a batch? a group of input data at a time. \n",
    "\n",
    "Now we need to multiply this group of input data with group of weights both are matrix"
   ]
  },
  {
   "cell_type": "code",
   "execution_count": 9,
   "metadata": {},
   "outputs": [
    {
     "name": "stdout",
     "output_type": "stream",
     "text": [
      "68\n"
     ]
    }
   ],
   "source": [
    "a = np.array([1,2,3])\n",
    "b = np.array([10,11,12])\n",
    "\n",
    "output = np.dot(a,b)\n",
    "print(output)"
   ]
  },
  {
   "cell_type": "markdown",
   "metadata": {},
   "source": [
    "### Example of what an array of a batch of samples looks like, compared to a single sample."
   ]
  },
  {
   "cell_type": "code",
   "execution_count": 10,
   "metadata": {},
   "outputs": [
    {
     "name": "stdout",
     "output_type": "stream",
     "text": [
      "[[ 4.8    1.21   2.385]\n",
      " [ 8.9   -1.81   0.2  ]\n",
      " [ 1.67   1.701 -0.312]]\n"
     ]
    }
   ],
   "source": [
    "import numpy as np\n",
    "\n",
    "inputs = [[1.0, 2.0, 3.0, 2.5],\n",
    "          [2.0,5.0,-1.0,2.0],\n",
    "          [-1/5, 2.7, 3.3, -0.8]]\n",
    "\n",
    "weights = [[0.2, 0.8, -0.5, 1.0],\n",
    "           [0.5, -0.91, 0.26, -0.5],\n",
    "           [-0.26, -0.27, 0.17, 0.87]]\n",
    "\n",
    "biases  = [2.0, 3.0, 0.5]\n",
    "\n",
    "output = np.dot(inputs, np.array(weights).T) + biases\n",
    "\n",
    "print(output)"
   ]
  },
  {
   "cell_type": "markdown",
   "metadata": {},
   "source": [
    "## More hidden layers and non-linear data\n",
    "\n",
    "A deep neural network is a neural network with 2 or more hidden layers\n",
    "\n",
    "So for each layer we will have a different set of weights\n"
   ]
  },
  {
   "cell_type": "code",
   "execution_count": 11,
   "metadata": {},
   "outputs": [
    {
     "name": "stdout",
     "output_type": "stream",
     "text": [
      "[5.7 2.6 0.7]\n"
     ]
    }
   ],
   "source": [
    "import numpy as np\n",
    "\n",
    "inputs = [1, 2, 3]\n",
    "\n",
    "weights = [[0.2, 0.8, -0.5 ],\n",
    "           [0.4,0.8,-0.6],\n",
    "           [0.9, 0.4, 0.8]]\n",
    "\n",
    "biases = [2.0, -1.0, 0]\n",
    "\n",
    "weights2 = [[ 0.1, -0.14, 0.5],\n",
    "            [-0.5, 0.12, -0.33],\n",
    "            [-0.44, 0.73, -0.13]]\n",
    "\n",
    "biases2 = [-1,2, -0.5]\n",
    "\n",
    "layer_output = np.dot(inputs,weights) + biases\n",
    "\n",
    "print(layer_output)"
   ]
  },
  {
   "cell_type": "markdown",
   "metadata": {},
   "source": [
    "### Matrix product with row and column vectors with a batch of inputs to the neural network\n",
    "\n",
    "#### Q-1 How many neurons we have in the second layer?"
   ]
  },
  {
   "cell_type": "code",
   "execution_count": 12,
   "metadata": {},
   "outputs": [
    {
     "name": "stdout",
     "output_type": "stream",
     "text": [
      "[[ 0.8131  -1.35685 -4.89375]\n",
      " [ 0.5534  -3.0482  -8.6183 ]\n",
      " [-0.91714  1.15708 -2.80751]]\n"
     ]
    }
   ],
   "source": [
    "import numpy as np\n",
    "\n",
    "inputs = [[1.0, 2.0, 3.0, 2.5],\n",
    "          [2.0,5.0,-1.0,2.0],\n",
    "          [-1/5, 2.7, 3.3, -0.8]]\n",
    "\n",
    "weights = [[0.2, 0.8, -0.5, 1.0],\n",
    "           [0.5, -0.91, 0.26, -0.5],\n",
    "           [-0.26, -0.27, 0.17, 0.87]]\n",
    "\n",
    "biases = [2.0, -1.0, 0]\n",
    "\n",
    "weights2 = [[ 0.1, -0.14, 0.5],\n",
    "            [-0.5, 0.12, -0.33],\n",
    "            [-0.44, 0.73, -0.13]]\n",
    "\n",
    "biases2 = [-1,2, -0.5]\n",
    "\n",
    "layer1_output = np.dot(inputs, np.array(weights).T) + biases\n",
    "\n",
    "layer2_output = np.dot(layer1_output, np.array(weights2).T) + biases2\n",
    "\n",
    "print(layer2_output)"
   ]
  },
  {
   "cell_type": "markdown",
   "metadata": {},
   "source": [
    "### Extracting the data"
   ]
  },
  {
   "cell_type": "code",
   "execution_count": 13,
   "metadata": {},
   "outputs": [
    {
     "name": "stdout",
     "output_type": "stream",
     "text": [
      "Requirement already satisfied: nnfs in c:\\programdata\\anaconda3\\lib\\site-packages (0.5.1)\n",
      "Requirement already satisfied: numpy in c:\\programdata\\anaconda3\\lib\\site-packages (from nnfs) (1.18.5)\n"
     ]
    }
   ],
   "source": [
    "!pip install nnfs"
   ]
  },
  {
   "cell_type": "code",
   "execution_count": 14,
   "metadata": {},
   "outputs": [],
   "source": [
    "import nnfs\n",
    "nnfs.init()"
   ]
  },
  {
   "cell_type": "code",
   "execution_count": 15,
   "metadata": {},
   "outputs": [
    {
     "data": {
      "image/png": "[encoded data removed]",
      "text/plain": [
       "<Figure size 432x288 with 1 Axes>"
      ]
     },
     "metadata": {
      "needs_background": "light"
     },
     "output_type": "display_data"
    }
   ],
   "source": [
    "import matplotlib.pyplot as plt\n",
    "from nnfs.datasets import spiral_data\n",
    "X,y = spiral_data(samples=100, classes=3)\n",
    "plt.scatter(X[:,0], X[:,1])\n",
    "plt.show()"
   ]
  },
  {
   "cell_type": "code",
   "execution_count": 16,
   "metadata": {
    "scrolled": true
   },
   "outputs": [
    {
     "data": {
      "image/png": "[encoded data removed]",
      "text/plain": [
       "<Figure size 432x288 with 1 Axes>"
      ]
     },
     "metadata": {
      "needs_background": "light"
     },
     "output_type": "display_data"
    }
   ],
   "source": [
    "import matplotlib.pyplot as plt\n",
    "from nnfs.datasets import spiral_data\n",
    "X,y = spiral_data(samples=100, classes=3)\n",
    "plt.scatter(X[:,0], X[:,1], c = y, cmap='brg')\n",
    "plt.show()"
   ]
  },
  {
   "cell_type": "markdown",
   "metadata": {},
   "source": [
    "### Why & how two or more hidden layers w/ nonlinear activation functions works with neural networks/deep learning\n",
    "\n",
    "#### Dense layer"
   ]
  },
  {
   "cell_type": "code",
   "execution_count": 17,
   "metadata": {},
   "outputs": [
    {
     "name": "stdout",
     "output_type": "stream",
     "text": [
      "[[ 0.0000000e+00  0.0000000e+00  0.0000000e+00]\n",
      " [-1.0475188e-04  1.1395361e-04 -4.7983500e-05]\n",
      " [-2.7414842e-04  3.1729150e-04 -8.6921798e-05]\n",
      " [-4.2188365e-04  5.2666257e-04 -5.5912682e-05]\n",
      " [-5.7707680e-04  7.1401405e-04 -8.9430439e-05]]\n"
     ]
    }
   ],
   "source": [
    "import numpy as np \n",
    "import nnfs\n",
    "from nnfs.datasets import spiral_data\n",
    "\n",
    "nnfs.init()\n",
    "#Dense Layer\n",
    "class Layer_Dense:\n",
    "\n",
    "  def __init__(self, n_inputs, n_neurons):\n",
    "    #initialize weight and biases\n",
    "    self.weights = 0.01 * np.random.randn(n_inputs, n_neurons)\n",
    "    self.biases = np.zeros((1,n_neurons))\n",
    "\n",
    "  # forwards pass\n",
    "  def forward(self, inputs):\n",
    "    self.output = np.dot(inputs, self.weights) + self.biases\n",
    "\n",
    "# test class\n",
    "\n",
    "X,y = spiral_data(samples = 100, classes=3)\n",
    "\n",
    "#create the layer\n",
    "dense1 = Layer_Dense(2, 3)\n",
    "\n",
    "#perform a forward pass\n",
    "dense1.forward(X)\n",
    "\n",
    "# see output\n",
    "print(dense1.output[:5])"
   ]
  },
  {
   "cell_type": "markdown",
   "metadata": {},
   "source": [
    "### Activation Functions\n",
    "\n",
    "Activation function is applied to the output of a neuron, which modifies outputs.\n",
    "\n",
    "We use activation function because is activation function is non-linear, it allows for neural networks with 2 or more layers to map non-linear functions.\n",
    "\n",
    "There are generally 2 types of activation functions used in NN. \n",
    "One in the hidden layers and 1 in the final output layer. \n",
    "\n",
    "How non-linearity comes will see later. Generally there are following types \n",
    "\n",
    "1. Step activation function \n",
    "2. Linear activation function (Last Layer for regression)\n",
    "3. Sigmoid activation function\n",
    "4. Rectified Linear Units \n",
    "\n",
    "\n",
    "Refs\n",
    "----\n",
    "1. https://towardsdatascience.com/if-rectified-linear-units-are-linear-how-do-they-add-nonlinearity-40247d3e4792\n",
    "\n"
   ]
  },
  {
   "cell_type": "markdown",
   "metadata": {},
   "source": [
    "ReLU Activation : simple code \n"
   ]
  },
  {
   "cell_type": "code",
   "execution_count": 18,
   "metadata": {},
   "outputs": [
    {
     "name": "stdout",
     "output_type": "stream",
     "text": [
      "[0.  2.  0.  3.3 0.  1.1 2.2 0. ]\n"
     ]
    }
   ],
   "source": [
    "import numpy as np\n",
    "\n",
    "inputs = [0,2,-1,3.3,-2.7,1.1,2.2,-100]\n",
    "output = np.maximum(0, inputs)\n",
    "print(output)"
   ]
  },
  {
   "cell_type": "code",
   "execution_count": 19,
   "metadata": {},
   "outputs": [],
   "source": [
    "#Relu Activation Class\n",
    "class Activation_Relu:\n",
    "    \n",
    "    #forward pass\n",
    "    def forward(self, inputs):\n",
    "        #calculate max of 0, input values\n",
    "        self.output = np.maximum(0, inputs)"
   ]
  },
  {
   "cell_type": "code",
   "execution_count": 20,
   "metadata": {},
   "outputs": [
    {
     "name": "stdout",
     "output_type": "stream",
     "text": [
      "[[0.         0.         0.        ]\n",
      " [0.         0.00011395 0.        ]\n",
      " [0.         0.00031729 0.        ]\n",
      " [0.         0.00052666 0.        ]\n",
      " [0.         0.00071401 0.        ]]\n"
     ]
    }
   ],
   "source": [
    "#example \n",
    "import numpy as np \n",
    "import nnfs\n",
    "from nnfs.datasets import spiral_data\n",
    "\n",
    "nnfs.init()\n",
    "#Dense Layer\n",
    "class Layer_Dense:\n",
    "\n",
    "  def __init__(self, n_inputs, n_neurons):\n",
    "    #initialize weight and biases\n",
    "    self.weights = 0.01 * np.random.randn(n_inputs, n_neurons)\n",
    "    self.biases = np.zeros((1,n_neurons))\n",
    "\n",
    "  # forwards pass\n",
    "  def forward(self, inputs):\n",
    "    self.output = np.dot(inputs, self.weights) + self.biases\n",
    "\n",
    "# test class\n",
    "\n",
    "X,y = spiral_data(samples = 100, classes=3)\n",
    "\n",
    "#create the layer\n",
    "dense1 = Layer_Dense(2, 3)\n",
    "activation1 = Activation_Relu()\n",
    "\n",
    "#perform a forward pass\n",
    "dense1.forward(X)\n",
    "\n",
    "#perform activation of Relu\n",
    "activation1.forward(dense1.output)\n",
    "\n",
    "\n",
    "# see output\n",
    "print(activation1.output[:5])"
   ]
  },
  {
   "cell_type": "markdown",
   "metadata": {},
   "source": [
    "We can see the values have been clipped to 0. "
   ]
  },
  {
   "cell_type": "markdown",
   "metadata": {},
   "source": [
    "### Softmax Activation Function\n",
    "\n"
   ]
  },
  {
   "cell_type": "code",
   "execution_count": 21,
   "metadata": {},
   "outputs": [],
   "source": [
    "#Using e^x because this function converts negative values to  positive values\n",
    "#Min value = 0/ Max value = + infinity as e^x is monotonic funtion"
   ]
  },
  {
   "cell_type": "code",
   "execution_count": 22,
   "metadata": {},
   "outputs": [
    {
     "name": "stdout",
     "output_type": "stream",
     "text": [
      "[121.51041752   3.35348465  10.85906266]\n"
     ]
    }
   ],
   "source": [
    "layer_outputs = [4.8, 1.21, 2.385]\n",
    "\n",
    "# need to do e^x\n",
    "# e = 2.71828182846\n",
    "\n",
    "exp_values = np.exp(layer_outputs)\n",
    "print(exp_values)"
   ]
  },
  {
   "cell_type": "code",
   "execution_count": 23,
   "metadata": {},
   "outputs": [
    {
     "name": "stdout",
     "output_type": "stream",
     "text": [
      "[121.51041752   3.35348465  10.85906266]\n",
      "[0.89528266 0.02470831 0.08000903]\n",
      "sum of normalized values:  0.9999999999999999\n"
     ]
    }
   ],
   "source": [
    "layer_outputs = [4.8, 1.21, 2.385]\n",
    "\n",
    "# need to do e^x\n",
    "# e = 2.71828182846\n",
    "\n",
    "exp_values = np.exp(layer_outputs)\n",
    "print(exp_values)\n",
    "\n",
    "# now normalize them \n",
    "norm_values = exp_values / np.sum(exp_values)\n",
    "print(norm_values)\n",
    "\n",
    "print(\"sum of normalized values: \", np.sum(norm_values))"
   ]
  },
  {
   "cell_type": "markdown",
   "metadata": {},
   "source": [
    "For batches"
   ]
  },
  {
   "cell_type": "code",
   "execution_count": 24,
   "metadata": {},
   "outputs": [
    {
     "name": "stdout",
     "output_type": "stream",
     "text": [
      "sum without axis 18.172\n"
     ]
    }
   ],
   "source": [
    "layer_outputs = np.array([[4.8, 1.21, 2.385],\n",
    "                          [8.9, -1.81, 0.2],\n",
    "                          [1.41, 1.051, 0.026]])\n",
    "\n",
    "print(\"sum without axis\", np.sum(layer_outputs))"
   ]
  },
  {
   "cell_type": "code",
   "execution_count": 25,
   "metadata": {},
   "outputs": [
    {
     "name": "stdout",
     "output_type": "stream",
     "text": [
      "sum with axis = 0  [15.11   0.451  2.611]\n"
     ]
    }
   ],
   "source": [
    "print(\"sum with axis = 0 \", np.sum(layer_outputs, axis = 0))"
   ]
  },
  {
   "cell_type": "code",
   "execution_count": 26,
   "metadata": {},
   "outputs": [
    {
     "name": "stdout",
     "output_type": "stream",
     "text": [
      "sum with axis = 1  [8.395 7.29  2.487]\n"
     ]
    }
   ],
   "source": [
    "print(\"sum with axis = 1 \", np.sum(layer_outputs, axis = 1))"
   ]
  },
  {
   "cell_type": "code",
   "execution_count": 27,
   "metadata": {},
   "outputs": [
    {
     "name": "stdout",
     "output_type": "stream",
     "text": [
      "sum with axis = 1  [[8.395]\n",
      " [7.29 ]\n",
      " [2.487]]\n"
     ]
    }
   ],
   "source": [
    "# to simplify to single value per sample, use keep_dims\n",
    "print(\"sum with axis = 1 \", np.sum(layer_outputs, axis = 1, keepdims=True))"
   ]
  },
  {
   "cell_type": "markdown",
   "metadata": {},
   "source": [
    "Softmax Activation Code"
   ]
  },
  {
   "cell_type": "code",
   "execution_count": 28,
   "metadata": {},
   "outputs": [],
   "source": [
    "class Activation_Softmax:\n",
    "    \n",
    "    def forward(self, inputs):\n",
    "        \n",
    "        e = np.exp(inputs-np.max(inputs,axis=1,keepdims=True))\n",
    "        \n",
    "        #normalize\n",
    "        probs = e/np.sum(e,axis=1,keepdims=True)\n",
    "        \n",
    "        self.output = probs"
   ]
  },
  {
   "cell_type": "code",
   "execution_count": 29,
   "metadata": {},
   "outputs": [],
   "source": [
    "# To prevend exploding values let's substract the max value from each array to retain the values between (-infinity and 1)"
   ]
  },
  {
   "cell_type": "code",
   "execution_count": 30,
   "metadata": {},
   "outputs": [],
   "source": [
    "#Softmax Activation\n",
    "class Activation_Softmax:\n",
    "\n",
    "  # forward pass \n",
    "  def forward(self, inputs):\n",
    "\n",
    "    exp_values = np.exp(inputs - np.max(inputs, axis = 1, keepdims=True))\n",
    "\n",
    "    #normalize\n",
    "    probs = exp_values / np.sum(exp_values, axis = 1, keepdims=True)\n",
    "\n",
    "    self.output = probs\n",
    "  "
   ]
  },
  {
   "cell_type": "markdown",
   "metadata": {},
   "source": [
    "Exponent"
   ]
  },
  {
   "cell_type": "code",
   "execution_count": 31,
   "metadata": {},
   "outputs": [
    {
     "data": {
      "text/plain": [
       "3.720075976020836e-44"
      ]
     },
     "execution_count": 31,
     "metadata": {},
     "output_type": "execute_result"
    }
   ],
   "source": [
    "np.exp(-100)"
   ]
  },
  {
   "cell_type": "code",
   "execution_count": 32,
   "metadata": {},
   "outputs": [
    {
     "data": {
      "text/plain": [
       "4.5399929762484854e-05"
      ]
     },
     "execution_count": 32,
     "metadata": {},
     "output_type": "execute_result"
    }
   ],
   "source": [
    "np.exp(-10)"
   ]
  },
  {
   "cell_type": "code",
   "execution_count": 33,
   "metadata": {},
   "outputs": [
    {
     "data": {
      "text/plain": [
       "1.0"
      ]
     },
     "execution_count": 33,
     "metadata": {},
     "output_type": "execute_result"
    }
   ],
   "source": [
    "np.exp(0)"
   ]
  },
  {
   "cell_type": "code",
   "execution_count": 34,
   "metadata": {},
   "outputs": [
    {
     "data": {
      "text/plain": [
       "22026.465794806718"
      ]
     },
     "execution_count": 34,
     "metadata": {},
     "output_type": "execute_result"
    }
   ],
   "source": [
    "np.exp(10)"
   ]
  },
  {
   "cell_type": "code",
   "execution_count": 35,
   "metadata": {},
   "outputs": [
    {
     "data": {
      "text/plain": [
       "2.6881171418161356e+43"
      ]
     },
     "execution_count": 35,
     "metadata": {},
     "output_type": "execute_result"
    }
   ],
   "source": [
    "np.exp(100)"
   ]
  },
  {
   "cell_type": "code",
   "execution_count": 36,
   "metadata": {},
   "outputs": [
    {
     "name": "stderr",
     "output_type": "stream",
     "text": [
      "<ipython-input-36-47a6eab891c2>:1: RuntimeWarning: overflow encountered in exp\n",
      "  np.exp(1000)\n"
     ]
    },
    {
     "data": {
      "text/plain": [
       "inf"
      ]
     },
     "execution_count": 36,
     "metadata": {},
     "output_type": "execute_result"
    }
   ],
   "source": [
    "np.exp(1000)"
   ]
  },
  {
   "cell_type": "code",
   "execution_count": 37,
   "metadata": {},
   "outputs": [
    {
     "name": "stdout",
     "output_type": "stream",
     "text": [
      "[[0.09003057 0.24472847 0.66524096]]\n"
     ]
    }
   ],
   "source": [
    "softmax = Activation_Softmax()\n",
    "\n",
    "input = [[1,2,3]]\n",
    "\n",
    "softmax.forward(input)\n",
    "print(softmax.output)"
   ]
  },
  {
   "cell_type": "code",
   "execution_count": 38,
   "metadata": {},
   "outputs": [
    {
     "name": "stdout",
     "output_type": "stream",
     "text": [
      "[[0.09003057 0.24472847 0.66524096]]\n"
     ]
    }
   ],
   "source": [
    "input = [[-2,-1,0]]\n",
    "\n",
    "softmax.forward(input)\n",
    "print(softmax.output)"
   ]
  },
  {
   "cell_type": "code",
   "execution_count": 39,
   "metadata": {},
   "outputs": [
    {
     "name": "stdout",
     "output_type": "stream",
     "text": [
      "[[0.09003057 0.24472847 0.66524096]]\n"
     ]
    }
   ],
   "source": [
    "input = [[-2,-1,0]]\n",
    "\n",
    "softmax.forward(input)\n",
    "print(softmax.output)"
   ]
  },
  {
   "cell_type": "markdown",
   "metadata": {},
   "source": [
    "Final Code"
   ]
  },
  {
   "cell_type": "code",
   "execution_count": 40,
   "metadata": {},
   "outputs": [
    {
     "name": "stdout",
     "output_type": "stream",
     "text": [
      "[[0.33333334 0.33333334 0.33333334]\n",
      " [0.33332068 0.33335868 0.33332068]\n",
      " [0.3332981  0.33340386 0.3332981 ]\n",
      " [0.3332748  0.33345038 0.3332748 ]\n",
      " [0.333254   0.33349204 0.333254  ]]\n"
     ]
    }
   ],
   "source": [
    "#example \n",
    "import numpy as np \n",
    "import nnfs\n",
    "from nnfs.datasets import spiral_data\n",
    "\n",
    "nnfs.init()\n",
    "#Dense Layer\n",
    "class Layer_Dense:\n",
    "\n",
    "  def __init__(self, n_inputs, n_neurons):\n",
    "    #initialize weight and biases\n",
    "    self.weights = 0.01 * np.random.randn(n_inputs, n_neurons)\n",
    "    self.biases = np.zeros((1,n_neurons))\n",
    "\n",
    "  # forwards pass\n",
    "  def forward(self, inputs):\n",
    "    self.output = np.dot(inputs, self.weights) + self.biases\n",
    "\n",
    "# test class\n",
    "\n",
    "X,y = spiral_data(samples = 100, classes=3)\n",
    "\n",
    "#create the layer\n",
    "dense1 = Layer_Dense(2, 3)\n",
    "activation1 = Activation_Relu()\n",
    "activation2 = Activation_Softmax()\n",
    "\n",
    "#perform a forward pass\n",
    "dense1.forward(X)\n",
    "\n",
    "#perform activation of Relu\n",
    "activation1.forward(dense1.output)\n",
    "\n",
    "#perform softmax\n",
    "activation2.forward(activation1.output)\n",
    "\n",
    "# see output\n",
    "print(activation2.output[:5])"
   ]
  },
  {
   "cell_type": "markdown",
   "metadata": {},
   "source": [
    "Categorical Cross Entropy\n",
    "\n",
    "1.Log(1) = 0 and to get +ve value of Log we added minus(-) sign because we want log function as positive\n",
    "\n",
    "2.And we are using Log because Log 1 is 0 and that means 100% where our Loss will be 0 and we have to approach to this value only and here we have achieve the concept of Categorical Cross Entropy\n"
   ]
  },
  {
   "cell_type": "code",
   "execution_count": 41,
   "metadata": {},
   "outputs": [
    {
     "name": "stdout",
     "output_type": "stream",
     "text": [
      "0.35667494393873245\n"
     ]
    }
   ],
   "source": [
    "\n",
    "\n",
    "import math\n",
    "output = [0.7, 0.1 , 0.2]\n",
    "\n",
    "target = [1, 0, 0 ]\n",
    "\n",
    "\n",
    "loss = -(math.log(output[0]) * target[0] + \n",
    "                 math.log(output[1]) * target[1]+\n",
    "                 math.log(output[2]) * target[2])\n",
    "\n",
    "print(loss)"
   ]
  },
  {
   "cell_type": "code",
   "execution_count": 42,
   "metadata": {},
   "outputs": [
    {
     "data": {
      "text/plain": [
       "0.35667494393873245"
      ]
     },
     "execution_count": 42,
     "metadata": {},
     "output_type": "execute_result"
    }
   ],
   "source": [
    "# our numpy solution \n",
    "import numpy as np \n",
    "np.sum(-1*np.log(np.asarray(output)) * np.asarray(target))"
   ]
  },
  {
   "cell_type": "code",
   "execution_count": 43,
   "metadata": {},
   "outputs": [
    {
     "name": "stdout",
     "output_type": "stream",
     "text": [
      "0.0\n",
      "-0.05129329438755058\n",
      "-0.10536051565782628\n",
      "-0.2231435513142097\n",
      "-1.6094379124341003\n",
      "-2.3025850929940455\n",
      "-2.995732273553991\n",
      "-4.605170185988091\n"
     ]
    }
   ],
   "source": [
    "print(math.log(1))\n",
    "print(math.log(0.95))\n",
    "print(math.log(0.9))\n",
    "print(math.log(0.8))\n",
    "print(math.log(0.2))\n",
    "print(math.log(0.1))\n",
    "print(math.log(0.05))\n",
    "print(math.log(0.01))"
   ]
  },
  {
   "cell_type": "markdown",
   "metadata": {},
   "source": [
    "Calculating Loss\n",
    "\n",
    "Softmax output array  is giving out the values which which are representing the corresponding to it's class"
   ]
  },
  {
   "cell_type": "code",
   "execution_count": 44,
   "metadata": {},
   "outputs": [
    {
     "name": "stdout",
     "output_type": "stream",
     "text": [
      "[0.7 0.5 0.9]\n"
     ]
    }
   ],
   "source": [
    "import numpy as np\n",
    "softmax_outputs = np.array([[0.7, 0.1, 0.2],\n",
    "                   [0.1, 0.5, 0.4],\n",
    "                   [0.02, 0.9, 0.08]])\n",
    "\n",
    "class_targets = [0,1,1]\n",
    "\n",
    "print(softmax_outputs[range(len(softmax_outputs)),class_targets])"
   ]
  },
  {
   "cell_type": "code",
   "execution_count": 45,
   "metadata": {},
   "outputs": [
    {
     "name": "stdout",
     "output_type": "stream",
     "text": [
      "[0.35667494 0.69314718 0.10536052]\n",
      "0.38506088005216804\n"
     ]
    }
   ],
   "source": [
    "negLog = -np.log(softmax_outputs[range(len(softmax_outputs)),class_targets])\n",
    "print(negLog)\n",
    "\n",
    "avg_loss = np.mean(negLog)\n",
    "\n",
    "print(avg_loss)"
   ]
  },
  {
   "cell_type": "markdown",
   "metadata": {},
   "source": [
    "### One hot encoded values. \n"
   ]
  },
  {
   "cell_type": "code",
   "execution_count": 46,
   "metadata": {},
   "outputs": [
    {
     "name": "stdout",
     "output_type": "stream",
     "text": [
      "[0.7 0.5 0.9]\n",
      "0.38506088005216804\n"
     ]
    }
   ],
   "source": [
    "softmax_outputs = np.array([[0.7, 0.1, 0.2],\n",
    "                   [0.1, 0.5, 0.4],\n",
    "                   [0.02, 0.9, 0.08]])\n",
    "\n",
    "class_targets = np.array([[1, 0, 0],\n",
    "                          [0,1,0],\n",
    "                         [0,1,0]])\n",
    "\n",
    "print(np.sum(softmax_outputs * class_targets, axis = 1))\n",
    "negLog = -1 * np.log(np.sum(softmax_outputs * class_targets, axis = 1))\n",
    "avg_loss = np.mean(negLog)\n",
    "print(avg_loss)"
   ]
  },
  {
   "cell_type": "markdown",
   "metadata": {},
   "source": [
    "Problems with log "
   ]
  },
  {
   "cell_type": "code",
   "execution_count": 47,
   "metadata": {},
   "outputs": [
    {
     "name": "stderr",
     "output_type": "stream",
     "text": [
      "<ipython-input-47-f6e7c0610b57>:1: RuntimeWarning: divide by zero encountered in log\n",
      "  np.log(0)\n"
     ]
    },
    {
     "data": {
      "text/plain": [
       "-inf"
      ]
     },
     "execution_count": 47,
     "metadata": {},
     "output_type": "execute_result"
    }
   ],
   "source": [
    "np.log(0)"
   ]
  },
  {
   "cell_type": "code",
   "execution_count": 48,
   "metadata": {},
   "outputs": [
    {
     "data": {
      "text/plain": [
       "-9.999999505838704e-08"
      ]
     },
     "execution_count": 48,
     "metadata": {},
     "output_type": "execute_result"
    }
   ],
   "source": [
    "-np.log(1.0000001)"
   ]
  },
  {
   "cell_type": "markdown",
   "metadata": {},
   "source": [
    "add a very small value to the actual values like 1e-7\n"
   ]
  },
  {
   "cell_type": "code",
   "execution_count": 49,
   "metadata": {},
   "outputs": [
    {
     "name": "stdout",
     "output_type": "stream",
     "text": [
      "[0.7 0.1 0.9]\n"
     ]
    }
   ],
   "source": [
    "softmax_outputs = np.array([[0.7, 0.1, 0.2],\n",
    "                   [0.1, 0.5, 0.4],\n",
    "                   [0.02, 0.9, 0.08]])\n",
    "\n",
    "class_targets = np.array([[1, 0, 0],\n",
    "                          [1,0,0],\n",
    "                         [0,1,0]])\n",
    "\n",
    "actual_scores = np.sum(softmax_outputs * class_targets, axis = 1)\n",
    "print(actual_scores)\n",
    "actual_scores += 1e-7"
   ]
  },
  {
   "cell_type": "code",
   "execution_count": 50,
   "metadata": {},
   "outputs": [
    {
     "name": "stdout",
     "output_type": "stream",
     "text": [
      "[0.7000001 0.1000001 0.9000001]\n"
     ]
    }
   ],
   "source": [
    "print(actual_scores)"
   ]
  },
  {
   "cell_type": "code",
   "execution_count": 51,
   "metadata": {},
   "outputs": [
    {
     "name": "stdout",
     "output_type": "stream",
     "text": [
      "[1.000000e-07 9.999999e-01 5.000001e-01]\n"
     ]
    },
    {
     "data": {
      "text/plain": [
       "array([1.61180957e+01, 1.00000005e-07, 6.93146981e-01])"
      ]
     },
     "execution_count": 51,
     "metadata": {},
     "output_type": "execute_result"
    }
   ],
   "source": [
    "preds = np.array([0, 1, 0.5])\n",
    "preds += 1e-7\n",
    "\n",
    "preds = np.clip(preds, 1e-7, 1-1e-7)\n",
    "\n",
    "print(preds)\n",
    "\n",
    "-np.log(preds)"
   ]
  },
  {
   "cell_type": "markdown",
   "metadata": {},
   "source": [
    "Final Code "
   ]
  },
  {
   "cell_type": "code",
   "execution_count": 52,
   "metadata": {},
   "outputs": [],
   "source": [
    "# Common loss class \n",
    "\n",
    "class Loss : \n",
    "\n",
    "  #calculates data and reg loss given model output and truth values \n",
    "  def calculate(self, output, y):\n",
    "\n",
    "    #calculate sample losses \n",
    "\n",
    "    sample_losses = self.forward(output, y )\n",
    "\n",
    "    #mean loss \n",
    "    data_loss = np.mean(sample_losses)\n",
    "\n",
    "    #return \n",
    "    return data_loss \n"
   ]
  },
  {
   "cell_type": "code",
   "execution_count": 53,
   "metadata": {},
   "outputs": [],
   "source": [
    "# Categorical Cross Entropy Loss \n",
    "\n",
    "class Loss_CategoricalCrossEntropy(Loss):\n",
    "\n",
    "  #forward pass \n",
    "  def forward(self, y_pred, y_true):\n",
    "\n",
    "    #number of samples in a batch \n",
    "    samples = len(y_pred)\n",
    "\n",
    "    #clip data to remove log 0 and negative loss \n",
    "    y_pred_clipped = np.clip(y_pred, 1e-7, 1-1e-7)\n",
    "\n",
    "    #probs for target values \n",
    "\n",
    "    #if categorical labels \n",
    "    if len(y_true.shape) == 1:\n",
    "      confidences = y_pred_clipped[range(samples), y_true]\n",
    "    \n",
    "    elif len(y_true.shape) == 2:\n",
    "      confidences = np.sum(y_pred_clipped * y_true, axis = 1)\n",
    "\n",
    "    #Losses\n",
    "    negLog = -np.log(confidences)\n",
    "\n",
    "    return negLog\n",
    "    "
   ]
  },
  {
   "cell_type": "code",
   "execution_count": 54,
   "metadata": {},
   "outputs": [
    {
     "name": "stdout",
     "output_type": "stream",
     "text": [
      "0.9215401841968681\n"
     ]
    }
   ],
   "source": [
    "loss_fucntion = Loss_CategoricalCrossEntropy()\n",
    "loss = loss_fucntion.calculate(softmax_outputs, class_targets)\n",
    "print(loss)"
   ]
  },
  {
   "cell_type": "code",
   "execution_count": null,
   "metadata": {},
   "outputs": [],
   "source": []
  }
 ],
 "metadata": {
  "kernelspec": {
   "display_name": "Python 3",
   "language": "python",
   "name": "python3"
  },
  "language_info": {
   "codemirror_mode": {
    "name": "ipython",
    "version": 3
   },
   "file_extension": ".py",
   "mimetype": "text/x-python",
   "name": "python",
   "nbconvert_exporter": "python",
   "pygments_lexer": "ipython3",
   "version": "3.8.3"
  }
 },
 "nbformat": 4,
 "nbformat_minor": 4
}
